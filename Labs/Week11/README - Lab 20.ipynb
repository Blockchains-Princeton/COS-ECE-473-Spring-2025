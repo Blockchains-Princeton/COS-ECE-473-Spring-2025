{
 "cells": [
  {
   "cell_type": "markdown",
   "id": "923d29e5",
   "metadata": {},
   "source": [
    "\n",
    "# Lab on Restaking\n",
    "\n",
    "## Primer\n",
    "\n",
    "Validator **restaking** refers to the reuse of the same blockchain validators (and their staked collateral) across multiple services or protocols. In a restaking network, a set of validators that secure a base blockchain (like Ethereum) can simultaneously validate additional services (such as side-chains, oracles, or other decentralized applications). This promises enhanced utility from existing staked assets, but it also introduces new risks. The obvious danger is that sharing validators among many services increases the incentives and opportunities for a validator to deviate from honest behavior.\n",
    "\n",
    "To address these risks, robust restaking networks employ **overcollateralization** as a security buffer. Overcollateralization means validators must stake significantly more value than the maximum profit an attacker could gain from corrupting the services they support. We denote the **overcollateralization factor** by γ (gamma). Formally, the condition for robust security is that for any subset of validators and the set of services they could jointly corrupt, the total stake at risk is at least a factor (1 + γ) larger than the total profit from attacking those services. This buffer ensures that any successful attack would cost the attackers more (in slashed stake) than they stand to gain, disincentivizing such attacks.\n",
    "\n",
    "Use the following paper as detailed reference - [LINK](https://arxiv.org/pdf/2407.21785)\n"
   ]
  },
  {
   "cell_type": "markdown",
   "id": "2a08016f",
   "metadata": {},
   "source": [
    "## Questions"
   ]
  },
  {
   "cell_type": "markdown",
   "id": "b953153d",
   "metadata": {},
   "source": [
    "### Question 1: Validator Reuse and Risks\n",
    "What is *validator restaking* in the context of blockchain networks, and why might reusing validators across multiple services introduce security risks? Briefly explain the concept of restaking and identify at least one key security concern that arises from this practice."
   ]
  },
  {
   "cell_type": "markdown",
   "id": "e17cd594",
   "metadata": {},
   "source": [
    "### Question 2: Overcollateralization Concept\n",
    "Define what is meant by *overcollateralization* in a restaking network. What is the role of the overcollateralization factor γ in ensuring security? In your answer, explain how the relationship between a potential attack’s **profit** and the **stake** at risk affects whether an attack is incentivized or deterred."
   ]
  },
  {
   "cell_type": "markdown",
   "id": "c4ac3c1c",
   "metadata": {},
   "source": [
    "### Question 3: Attack Profitability Check\n",
    "Consider a scenario where an attacker can earn a profit of 100 tokens by successfully corrupting a set of services. The validators involved in this attack have a total of **110 tokens** staked (which they would lose if the attack is detected and they are slashed).\n",
    "- **(a)** Calculate the attacker’s net gain or loss.\n",
    "- **(b)** What is the effective overcollateralization factor γ in this case?\n",
    "- **(c)** Now suppose the stake is only **90 tokens**. What is the net outcome? Is the attack incentivized?"
   ]
  },
  {
   "cell_type": "markdown",
   "id": "7af600d5",
   "metadata": {},
   "source": [
    "### Question 4: Cascading Attack and Stake Loss\n",
    "Explain how a small initial loss of validator stake (a \"shock\") could lead to a **cascading series of attacks** in a restaking network that lacks a sufficient safety buffer. Derive an expression for the **maximum total fraction of stake** that could be lost after any ensuing cascade, in terms of the initial shock size ψ and the overcollateralization factor γ.\n",
    "\n",
    "Given γ = 0.25 and ψ = 1%, calculate the worst-case total stake loss (as a percentage of the original total stake)."
   ]
  },
  {
   "cell_type": "markdown",
   "id": "64d01cdf",
   "metadata": {},
   "source": [
    "### Question 5: Multi-Service Attack Scenario\n",
    "Consider a restaking network with **4 services** (A, B, C, D) each supported by **3 validators** each having 1 unit of stake.\n",
    "- **(a)** Show why colluding all three validators can corrupt all four services. Compute the total profit and total stake loss. Is the attack profitable?\n",
    "- **(b)** To make the network robustly secure with γ = 0.5, how much total stake must the validators have collectively? What should be the new stake per validator?"
   ]
  },
  {
   "cell_type": "markdown",
   "id": "682c5651-4b3b-4e5a-b6d4-88c1fd95b7a1",
   "metadata": {},
   "source": [
    "# Submission\n",
    "\n",
    "[SUBMIT YOUR RESPONSES TO THIS FORM](https://forms.gle/rvEicrS49F2dcSEQ9)"
   ]
  },
  {
   "cell_type": "code",
   "execution_count": null,
   "id": "bbb2a3a8-e777-4c51-8485-53355186b03d",
   "metadata": {},
   "outputs": [],
   "source": []
  }
 ],
 "metadata": {
  "kernelspec": {
   "display_name": "Python 3 (ipykernel)",
   "language": "python",
   "name": "python3"
  },
  "language_info": {
   "codemirror_mode": {
    "name": "ipython",
    "version": 3
   },
   "file_extension": ".py",
   "mimetype": "text/x-python",
   "name": "python",
   "nbconvert_exporter": "python",
   "pygments_lexer": "ipython3",
   "version": "3.12.9"
  }
 },
 "nbformat": 4,
 "nbformat_minor": 5
}
