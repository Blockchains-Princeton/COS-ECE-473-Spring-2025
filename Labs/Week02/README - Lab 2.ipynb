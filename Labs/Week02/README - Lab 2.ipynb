{
 "cells": [
  {
   "cell_type": "markdown",
   "id": "61ed042f",
   "metadata": {},
   "source": [
    "# Objectives \n",
    "\n",
    "- Familiarization with smart contarcts \n",
    "- Step through OPCODE level execution of a transaction\n",
    "- Familiarize and set up web3 library and wallet APIs \n",
    "- Interacting with an ERC20 token\n",
    "\n",
    "\n",
    "\n",
    "# Walkthrough smart contract\n",
    "\n",
    "We have deployed smart contracts for the ERC20 tokens on the Sepolia testnet. The contracts can be found on etherscan here: [LUSD](https://sepolia.etherscan.io/address/0x9142FA65aAEf921Aea2127e88758adeE0510a0F0), [TIGER](https://sepolia.etherscan.io/address/0x0f47e03a0383396635846f8495003fc478b71bca). We will pretend that the Lab USD token has a value of 1 USD, and the TIGER token value is decided by the market (i.e. participants such as you buying/selling these tokens). \n",
    "\n",
    "Let us now go through the contract and describe what each ```function``` does."
   ]
  },
  {
   "cell_type": "markdown",
   "id": "85c31293",
   "metadata": {},
   "source": [
    "### What does ```balanceOf``` and ```totalSupply``` do?"
   ]
  },
  {
   "cell_type": "markdown",
   "id": "3219d366",
   "metadata": {},
   "source": [
    "### What does ```transfer``` and ```transferFrom``` do ? Which of them needs you to run ```approve``` before it executes correctly ?"
   ]
  },
  {
   "cell_type": "markdown",
   "id": "480a12d5",
   "metadata": {},
   "source": [
    "### What events can be emitted by the contract ? [What is their use](https://consensys.net/blog/developers/guide-to-events-and-logs-in-ethereum-smart-contracts/) ? "
   ]
  },
  {
   "cell_type": "markdown",
   "id": "68bf8ab5",
   "metadata": {},
   "source": [
    "### How does the contract respond to airdrop requests ?"
   ]
  },
  {
   "cell_type": "markdown",
   "id": "2653816a",
   "metadata": {},
   "source": [
    "# Requesting tokens\n",
    "\n",
    "To request the tokens we shall be using in the future for some in-class labs, we are going to use the ```web3``` library in python. The installation instructions can be found [here](https://web3py.readthedocs.io/en/v5/quickstart.html). We will view our transactions on the [Sepolia testnet etherscan](https://sepolia.etherscan.io/). \n",
    "\n",
    "We now send a transaction that uses this API to request some of the Lab ERC20 tokens from a [faucet contract](https://sepolia.etherscan.io/address/0x10831292abfc6Dd365d51613Afeaa80dEd653645). The faucet allows each registered wallet to redeem a fixed number of tokens per day. The code used to do that has to be written below.\n",
    "\n",
    "### Setup Web3 API\n",
    "First, we connect your wallet to a Web3 API - this is a service that connects you to the Ethereum blockchain via a simple URL. \n",
    "\n",
    "To do that, first create a free account on [Infura](https://app.infura.io/register)(using any email ID).\n",
    "\n",
    "Once you log in, you would see your Infura API key under the project name you had given. Use that key in the following code."
   ]
  },
  {
   "cell_type": "code",
   "execution_count": null,
   "id": "0b9e0658",
   "metadata": {},
   "outputs": [],
   "source": [
    "# Import web3\n",
    "from web3 import Web3\n",
    "from datetime import datetime, timedelta\n",
    "\n",
    "w3 = Web3(Web3.HTTPProvider('https://sepolia.infura.io/v3/your-infura-key-here'))\n",
    "\n",
    "print(w3.eth.block_number) #Check if the notebook is connected to the Infura node\n",
    "print(w3.__dict__)"
   ]
  },
  {
   "cell_type": "markdown",
   "id": "c8e14ac7",
   "metadata": {},
   "source": [
    "### Setup your ETH account details"
   ]
  },
  {
   "cell_type": "code",
   "execution_count": null,
   "id": "f31fc1f5",
   "metadata": {},
   "outputs": [],
   "source": [
    "# Wallet details\n",
    "\n",
    "public_address = 'your-public-key-here' # see metamask for this\n",
    "private_key = 'your-private-key-here' # see metamask for this"
   ]
  },
  {
   "cell_type": "markdown",
   "id": "368012e5",
   "metadata": {},
   "source": [
    "### Set up a contract instance\n",
    "Now, we send a request transaction to the faucet, signed by your private key."
   ]
  },
  {
   "cell_type": "code",
   "execution_count": null,
   "id": "698888f4",
   "metadata": {},
   "outputs": [],
   "source": [
    "# Define the TigerFaucet contract to connect to\n",
    "\n",
    "contract_addr = 'address-of-tiger-faucet-contract'\n",
    "abi_contract = '[{\"inputs\":[],\"stateMutability\":\"nonpayable\",\"type\":\"constructor\"},{\"inputs\":[{\"internalType\":\"address[]\",\"name\":\"user_list\",\"type\":\"address[]\"},{\"internalType\":\"address\",\"name\":\"token_address\",\"type\":\"address\"}],\"name\":\"deRegisterUsers\",\"outputs\":[],\"stateMutability\":\"nonpayable\",\"type\":\"function\"},{\"inputs\":[{\"internalType\":\"address\",\"name\":\"user_address\",\"type\":\"address\"},{\"internalType\":\"address\",\"name\":\"token_address\",\"type\":\"address\"}],\"name\":\"getLatestRequestTimestamp\",\"outputs\":[{\"internalType\":\"uint256\",\"name\":\"\",\"type\":\"uint256\"}],\"stateMutability\":\"view\",\"type\":\"function\"},{\"inputs\":[{\"internalType\":\"address\",\"name\":\"user_address\",\"type\":\"address\"},{\"internalType\":\"address\",\"name\":\"token_address\",\"type\":\"address\"}],\"name\":\"getRegistrationStatus\",\"outputs\":[{\"internalType\":\"bool\",\"name\":\"\",\"type\":\"bool\"}],\"stateMutability\":\"view\",\"type\":\"function\"},{\"inputs\":[],\"name\":\"manager\",\"outputs\":[{\"internalType\":\"address\",\"name\":\"\",\"type\":\"address\"}],\"stateMutability\":\"view\",\"type\":\"function\"},{\"inputs\":[{\"internalType\":\"address[]\",\"name\":\"user_list\",\"type\":\"address[]\"},{\"internalType\":\"address\",\"name\":\"token_address\",\"type\":\"address\"}],\"name\":\"registerUsers\",\"outputs\":[],\"stateMutability\":\"nonpayable\",\"type\":\"function\"},{\"inputs\":[{\"internalType\":\"contract IERC20\",\"name\":\"token\",\"type\":\"address\"}],\"name\":\"requestTokens\",\"outputs\":[],\"stateMutability\":\"nonpayable\",\"type\":\"function\"},{\"inputs\":[{\"internalType\":\"contract IERC20\",\"name\":\"token\",\"type\":\"address\"}],\"name\":\"retrieveFaucetAmount\",\"outputs\":[{\"internalType\":\"uint256\",\"name\":\"\",\"type\":\"uint256\"}],\"stateMutability\":\"view\",\"type\":\"function\"},{\"inputs\":[{\"internalType\":\"contract IERC20\",\"name\":\"token\",\"type\":\"address\"}],\"name\":\"retrieveFaucetBalance\",\"outputs\":[{\"internalType\":\"uint256\",\"name\":\"\",\"type\":\"uint256\"}],\"stateMutability\":\"view\",\"type\":\"function\"},{\"inputs\":[{\"internalType\":\"address\",\"name\":\"token_address\",\"type\":\"address\"},{\"internalType\":\"uint256\",\"name\":\"value\",\"type\":\"uint256\"}],\"name\":\"set_faucet_amount\",\"outputs\":[],\"stateMutability\":\"nonpayable\",\"type\":\"function\"}]' # see the \"Code\" section of the faucet contract on etherscan\n",
    "contract = w3.eth.contract(contract_addr, abi=abi_contract)\n",
    "\n",
    "# Define the address of the ERC20 token you want\n",
    "\n",
    "token_addr = 'address-of-token-you-want'"
   ]
  },
  {
   "cell_type": "markdown",
   "id": "a56d0912",
   "metadata": {},
   "source": [
    "### Create transaction data"
   ]
  },
  {
   "cell_type": "code",
   "execution_count": null,
   "id": "8c4473b7",
   "metadata": {},
   "outputs": [],
   "source": [
    "### Create transaction data\n",
    "txn = contract.functions.requestTokens(token_addr).build_transaction(\n",
    "    {\n",
    "        'nonce':w3.eth.get_transaction_count(public_address),\n",
    "        'from':public_address,\n",
    "    }\n",
    ")"
   ]
  },
  {
   "cell_type": "markdown",
   "id": "0af79c39",
   "metadata": {},
   "source": [
    "### Sign and post transaction\n",
    "You should see the hash of your transaction printed."
   ]
  },
  {
   "cell_type": "code",
   "execution_count": null,
   "id": "c089ce13",
   "metadata": {},
   "outputs": [],
   "source": [
    "# Post transaction\n",
    "\n",
    "signed_txn = w3.eth.account.sign_transaction(txn, private_key) # Sign the txn with your private key \n",
    "txn_hash = w3.eth.send_raw_transaction(signed_txn.raw_transaction) # Send it onto the chain\n"
   ]
  },
  {
   "cell_type": "code",
   "execution_count": null,
   "id": "4744cdcc",
   "metadata": {},
   "outputs": [],
   "source": [
    "print(\"Hash of swap transaction : \",Web3.to_hex(txn_hash)) # Search the txn hash on etherscan to see if it got confirmed"
   ]
  },
  {
   "cell_type": "markdown",
   "id": "54a3d804",
   "metadata": {},
   "source": [
    "## Request tokens through Etherscan\n",
    "\n",
    "Verified contracts on Etherscan allow you to interact with functions on the contract.\n",
    "Open the [Tiger Faucet](https://sepolia.etherscan.io/address/0x10831292abfc6dd365d51613afeaa80ded653645) contract by providing it's address. You can now access the contract's read and write functions.\n",
    "Go to the ``write tab``, connect your metamask wallet and call the ``requestTokens`` function by providing your wallet's public address and the TIGER token's contract address. Confirm the transaction on the metamask prompt."
   ]
  },
  {
   "cell_type": "markdown",
   "id": "6b81be27",
   "metadata": {},
   "source": [
    "# Add to MetaMask"
   ]
  },
  {
   "cell_type": "markdown",
   "id": "c6a1de90",
   "metadata": {},
   "source": [
    "- The token balances can now be tracked via MetaMask using the contract addresses of each token. \n",
    "- Use the \"Import Tokens\" link at the bottom of your MetaMask. \n",
    "- Enter the smart contract address for an ERC20 tokens we would be using in the class.\n",
    "- Do this for each of the tokens - TIGER and LUSD"
   ]
  },
  {
   "cell_type": "code",
   "execution_count": null,
   "id": "c4596216",
   "metadata": {},
   "outputs": [],
   "source": []
  }
 ],
 "metadata": {
  "kernelspec": {
   "display_name": "Python 3 (ipykernel)",
   "language": "python",
   "name": "python3"
  },
  "language_info": {
   "codemirror_mode": {
    "name": "ipython",
    "version": 3
   },
   "file_extension": ".py",
   "mimetype": "text/x-python",
   "name": "python",
   "nbconvert_exporter": "python",
   "pygments_lexer": "ipython3",
   "version": "3.10.4"
  }
 },
 "nbformat": 4,
 "nbformat_minor": 5
}
