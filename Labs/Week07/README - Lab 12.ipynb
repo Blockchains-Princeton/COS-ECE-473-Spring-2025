{
 "cells": [
  {
   "cell_type": "markdown",
   "id": "0ede534d",
   "metadata": {},
   "source": [
    "\n",
    "## Objectives\n",
    "In this lab, we will :\n",
    "1. Send assets across blockchains : Sepolia (Ethereum testnet) to Amoy (Polygon testnet)\n",
    "2. Understand how LayerZero bridges tokens from the mainnet to the testnet\n",
    "3. Interact with the wrapped ETH smart contract\n",
    "4. Deploy and interact with a smart contract that wraps ERC-20 tokens (TIGER)\n",
    "\n",
    "## Send assets across different blockchains\n",
    "\n",
    "The objective here is to get a wrapped version of ETH tokens on the Amoy chain. To do this, we follow these steps :\n",
    "1. Go to the GUI for the [bridge between Sepolia and Amoy](https://portal.polygon.technology/bridge) and connect your MetaMask.\n",
    "2. Switch to testnet from the side bar menu.\n",
    "3. Select ETH token and the Sepolia testnet in the \"From\" field.\n",
    "4. Enter the amount of ETH you wish to transfer - say 0.001 ETH.\n",
    "5. Click Transfer.\n",
    "6. Confirm the transaction via MetaMask. \n",
    "\n",
    "You can also view your transaction on Etherscan. If you go to the transactions tab on the Polygon portal, you should be able to see a pending transaction. If you click on it, it will reveal the Sepolia transaction hash. The transaction will transfer your ETH to a [certain smart contract](https://sepolia.etherscan.io/address/0x930c824c1e423a4b4949c665c4e92bd8f6ccf04e) that is supposed to notify a committee of bridge managers (who are off-chain) that a transaction has happened on one chain (Sepolia/Ethereum). The committee then votes on approving a set of corresponding transactions on the other chain (Amoy/Polygon)."
   ]
  },
  {
   "cell_type": "markdown",
   "id": "3fad5a32",
   "metadata": {},
   "source": [
    "## Understanding how LayerZero works\n",
    "\n",
    "[This is the testnet bridge website](https://testnetbridge.com/sepolia) and its smart contract deployed on Sepolia is [this](https://testnetbridge.com/sepolia/how). The contract swaps the native token on each net (ETH on mainnet and SepoliaETH on Sepolia) with a wrapped version of the token on the destination net (SETH on mainnet and METH on Sepolia). [There is a uniswap pool](https://testnetbridge.com/sepolia/pools) between METH and SepoliaETH on the Sepolia testnet. Similarly, there is a pool between SETH and ETH on the mainnet. Each of these wrapped tokens have a bridge that is managed by LayerZero's validators that mint tokens on destination chain when respective tokens are deposited on one chain. For instance, when METH is sent to the bridge on Sepolia, it gives ETH on mainnet to the corresponding address.\n",
    "\n",
    "![LayerZero](bridgeLZ.svg)\n"
   ]
  },
  {
   "cell_type": "markdown",
   "id": "05f819fe",
   "metadata": {},
   "source": [
    "## Interaction with wrapped ETH contract\n",
    "\n",
    "ETH is not an ERC-20 token, which is why many protocols use wrapped ETH (WETH) instead. The contract for converting ETH to WETH is [here](https://sepolia.etherscan.io/address/0x7b79995e5f793a07bc00c21412e50ecae098e7f9).\n",
    "\n",
    "1. Go to Write Contract\n",
    "2. Deposit 0.001 ETH in the contract\n",
    "3. Check your WETH balance - you should have the same amount of WETH.\n",
    "4. Use the withdraw function to get your ETH back."
   ]
  },
  {
   "cell_type": "markdown",
   "id": "ae406fdb",
   "metadata": {},
   "source": [
    "## Wrapping TIGER token\n",
    "\n",
    "The process of wrapping ERC20 tokens themselves is essential for utilizing them within the Ethereum ecosystem for staking, governance, and other actions. This is primarily due to the different token standards and functionalities they possess. \n",
    "\n",
    "Wrapping ERC20 tokens allows users to convert them into a compatible format for a particular protocol, generally referred to as wrapped tokens. This conversion is crucial for staking purposes, as many decentralized finance (DeFi) platforms and protocols require tokens to be in a specific format to participate in staking pools, liquidity provision, or yield farming.\n",
    "\n",
    "Moreover, wrapped tokens facilitate a more streamlined governance process within decentralized autonomous organizations (DAOs) and other blockchain projects. By ensuring compatibility with various smart contracts and decentralized applications (dApps) on the Ethereum network, wrapped tokens enable users to participate in voting, proposal submission, and other governance-related actions with greater ease.\n",
    "\n",
    "Let us assume you want to wrap the TIGER token. Given below is an incomplete contract that you should fill in."
   ]
  },
  {
   "cell_type": "markdown",
   "id": "95df11d0",
   "metadata": {},
   "source": [
    "```javascript\n",
    "\n",
    "pragma solidity >=0.8.0 <0.9.0;\n",
    "//SPDX-License-Identifier: MIT\n",
    "\n",
    "import \"@openzeppelin/contracts/token/ERC20/ERC20.sol\";\n",
    "\n",
    "contract ERC20Wrapper is ERC20 {\n",
    "     address _underlying;\n",
    "\n",
    "    constructor(address underlyingToken) ERC20(\"Wrapped LETH\", \"WLETH\") {\n",
    "        require(underlyingToken != address(this), \"ERC20Wrapper: cannot self wrap\");\n",
    "        _underlying = underlyingToken;\n",
    "    }\n",
    "\n",
    "    /**\n",
    "     * TODO : Fill in the numbered variables\n",
    "     */\n",
    "    function deposit(uint256 amount) public virtual  {\n",
    "        address sender = _msgSender();\n",
    "        ERC20(_1_).transferFrom(_2_, _3_, _4_);\n",
    "        _mint(_5_, _6_);\n",
    "    }\n",
    "\n",
    "    /**\n",
    "     * TODO : Fill in the numbered variables\n",
    "     */\n",
    "    function withdraw(uint256 amount) public virtual  {\n",
    "        address sender = _msgSender();\n",
    "        _burn(_7_, _8_);\n",
    "        ERC20(_1_).transfer(_9_, _10_);\n",
    "    }\n",
    "\n",
    "    \n",
    "}\n",
    "\n"
   ]
  },
  {
   "cell_type": "markdown",
   "id": "e7b19582",
   "metadata": {},
   "source": [
    "1. Copy and paste the above contract into a new file in [Remix](https://remix.ethereum.org/).\n",
    "2. Fill in the deposit and withdraw functions.\n",
    "3. Try to deploy the contract with the underlyingToken being [TIGER](https://sepolia.etherscan.io/address/0x0F47E03a0383396635846f8495003fc478b71bcA).\n",
    "4. Submit your answers for each blank value in the above code at the Google Form on Ed.\n",
    "5. If you were able to deploy your contract, perform a deposit transaction - do you need to do something else before your deposit transaction goes through?\n",
    "6. Do a withdraw transaction as well."
   ]
  }
 ],
 "metadata": {
  "kernelspec": {
   "display_name": "Python 3 (ipykernel)",
   "language": "python",
   "name": "python3"
  },
  "language_info": {
   "codemirror_mode": {
    "name": "ipython",
    "version": 3
   },
   "file_extension": ".py",
   "mimetype": "text/x-python",
   "name": "python",
   "nbconvert_exporter": "python",
   "pygments_lexer": "ipython3",
   "version": "3.9.15"
  }
 },
 "nbformat": 4,
 "nbformat_minor": 5
}
